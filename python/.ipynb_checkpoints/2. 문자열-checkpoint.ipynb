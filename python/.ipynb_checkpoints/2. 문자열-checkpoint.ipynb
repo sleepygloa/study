{
 "cells": [
  {
   "cell_type": "markdown",
   "metadata": {},
   "source": [
    "#### string (문자열)\n",
    "- 복수개의 문자를 순서대로 나열한 것\n",
    "- 문자열은 '' 또는 \"\" 사이에 문자를 넣어서 생성\n",
    "- 문자열 자체에 ', \" 가 있는 경우에는 각각 그 반대의 기호로 생성"
   ]
  },
  {
   "cell_type": "markdown",
   "metadata": {},
   "source": [
    "#### escape string (이스케이프 문자)\n",
    "- 문자열 내의 일부 문자의 의미를 달리하여 특정한 효과를 주는것\n",
    "- \\n : new Line, \\t : tab"
   ]
  },
  {
   "cell_type": "markdown",
   "metadata": {},
   "source": [
    "#### indexing & slicing string (문자열 인덱스 및 추출)\n",
    "- 문자열의 각 문자는 순서가 있음\n",
    "- 이 때 각 문자열의 순서를 인덱스라고 함\n",
    "- 첫번째 문자부터 마지마가까지 차례대로의 순서를 가짐\n",
    "- 첫번째 시작문자의 순서는 0 으로 시작(1이 아님)"
   ]
  },
  {
   "cell_type": "markdown",
   "metadata": {},
   "source": [
    "#### -1 인덱스\n",
    "- 다른 언어와는 달리, python의 경우 음수 인덱스 지원\n",
    "- -1 이 가장 마지막 인덱스를, -2 가 마지막에서 두번째 인덱스를 의미"
   ]
  },
  {
   "cell_type": "markdown",
   "metadata": {},
   "source": [
    "#### 인덱스의 범위\n",
    "- 인덱스는 [0 문자열의 길이] 의 범위에만 유효\n",
    "- 음수 인덱스를 사용할 경우, [-문자열의 길이, -1]\n",
    "- 범위를 넘어갈 경우 에러 발생"
   ]
  },
  {
   "cell_type": "markdown",
   "metadata": {},
   "source": [
    "#### 문자열 slicing\n",
    "- 인덱스가 하나의 문자만을 추출한다면\n",
    "- slicing은 부분 문자열을 추출한다고 볼 수 있음\n",
    "- [시작:끝] 와 같이 명시하여 [시작, 끝]에 해당하는 부분 문자열을 추출\n",
    "- 시작, 끝 인덱스가 생략이 되어 있다면, 0부터 혹은 끝까지로 간주"
   ]
  },
  {
   "cell_type": "markdown",
   "metadata": {},
   "source": [
    "#### 문자열 함수\n",
    "- 문자열은 여러가지 기능 제공을 위한 함수를 내장\n",
    "- 함수란 특정 기능을 하는 코드로언제든지 호출하여 해당 기능을 사용 가능하도록 구성한 코드\n",
    "- 추후에 함수에 대해 자세히 다룰 예정"
   ]
  }
 ],
 "metadata": {
  "kernelspec": {
   "display_name": "Python 3",
   "language": "python",
   "name": "python3"
  },
  "language_info": {
   "codemirror_mode": {
    "name": "ipython",
    "version": 3
   },
   "file_extension": ".py",
   "mimetype": "text/x-python",
   "name": "python",
   "nbconvert_exporter": "python",
   "pygments_lexer": "ipython3",
   "version": "3.7.6"
  }
 },
 "nbformat": 4,
 "nbformat_minor": 4
}
