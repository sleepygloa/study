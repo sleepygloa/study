{
 "cells": [
  {
   "cell_type": "markdown",
   "metadata": {},
   "source": [
    "- 데이터를 저장하는 공간, 변수\n",
    "- 저장공간에 값을 생성하고 이름을 지정\n",
    "- =(대입연산자) 를 사용하여 왼쪽은 변수명, 오른쪽은 데이터가 위치\n"
   ]
  },
  {
   "cell_type": "markdown",
   "metadata": {},
   "source": [
    "#### comment(주석)\n",
    "- 코드에서 #으로 시작하는 뒷부분은 실행되지 않음.\n",
    "- python이 소스코드를 실행하면서 #을 만나면 무시\n",
    "- 개발자가 보기 위한 용도로 사용"
   ]
  },
  {
   "cell_type": "markdown",
   "metadata": {},
   "source": [
    "#### print함수\n",
    "- 함수란 특정 기능을 반복적으로 호출하여 사용가능한 코드블럭\n",
    "- 해당 변수의 값을 출력\n",
    "- , 로 여러 변수를 나열하면 한줄에 출력\n",
    "- 기본적으로는 한칸 띄어쓰기 후 출력"
   ]
  },
  {
   "cell_type": "markdown",
   "metadata": {},
   "source": [
    "##### print함수 설정\n",
    "- sep :  구분자, 각 출력할 변수 사이에서 구별하는 역할을 함\n",
    "- end : 마지막에 출력할 문자열"
   ]
  },
  {
   "cell_type": "markdown",
   "metadata": {},
   "source": [
    "#### 변수 값 확인법\n",
    "- print() 함수 사용\n",
    "- 변수 값을 코드의 마지막에 위치 시킨 후 실행\n",
    " - 이 경우 output으로 변수의 값이 출력"
   ]
  },
  {
   "cell_type": "markdown",
   "metadata": {},
   "source": [
    "#### variable naming(변수 이름 규칙)\n",
    "- 숫자로 시작하는 이름을 제외하고 영문 대소문자, _, 숫자로 구성가능\n",
    "- 아래의 예제는 모두 valid한 변수 이름\n",
    "- 일반적으로 해당 변수를 표현하고 하는 정확하고 간결한 이름을 사용하는 것이 원칙\n",
    " - 코드를 읽는 것을 더 쉽게 할 수 있음\n",
    " - a = 1000의 경우보다 student_num = 1000 로 명시한 것이 변수에 대한 이해가 빠름"
   ]
  },
  {
   "cell_type": "markdown",
   "metadata": {},
   "source": [
    "#### invalid 한 변수 이름의 예\n",
    "- 숫자로 시작하면 안되는 이유"
   ]
  },
  {
   "cell_type": "code",
   "execution_count": 3,
   "metadata": {},
   "outputs": [
    {
     "name": "stdout",
     "output_type": "stream",
     "text": [
      "4\n"
     ]
    }
   ],
   "source": [
    "# 4 = 9\n",
    "print(4)"
   ]
  },
  {
   "cell_type": "markdown",
   "metadata": {},
   "source": [
    "#### reserved keywords (예약어)\n",
    "- python 에서 미리 선점하여 사용중인 키워드\n",
    "- 변수, 함수, 클래스 등등의 사용자 정의 이름을 사용할 수 없음"
   ]
  },
  {
   "cell_type": "markdown",
   "metadata": {},
   "source": [
    "#### type 함수\n",
    "- 해당 변수, 값의 타입을 알고자 할 때 사용"
   ]
  },
  {
   "cell_type": "code",
   "execution_count": 1,
   "metadata": {},
   "outputs": [
    {
     "data": {
      "text/plain": [
       "str"
      ]
     },
     "execution_count": 1,
     "metadata": {},
     "output_type": "execute_result"
    }
   ],
   "source": [
    "a = 10\n",
    "type(a)\n",
    "a = \"타입\"\n",
    "type(a)"
   ]
  },
  {
   "cell_type": "markdown",
   "metadata": {},
   "source": [
    "#### None\n",
    "- 아무런 값을 갖지 않을 때 사용\n",
    "- 일반적으로 변수가 초기값을 갖지 않게 하여 해당 변수를 생성 할 때 사용\n",
    "- 기타 언어의 Null, nil 등과 같은 의미로 사용"
   ]
  },
  {
   "cell_type": "markdown",
   "metadata": {},
   "source": [
    "#### comparison operator(비교 연산자)\n",
    "- 프로그래밍에서는 비교를 할 경우, = 대신 == 를 사용\n",
    "- <, >, <=, >=, ==, !="
   ]
  },
  {
   "cell_type": "markdown",
   "metadata": {},
   "source": [
    "#### numbers(숫자형)\n",
    "- 정수, 실수로 구성\n",
    "- 수학의 기본 연산자 사용가능"
   ]
  },
  {
   "cell_type": "markdown",
   "metadata": {},
   "source": [
    "#### operator priorities (연산자 우선순위)\n",
    "- 기본적인 수학의 연산자와 동일\n",
    "- 강제로 연산을 선수하기 위해 () 사용"
   ]
  },
  {
   "cell_type": "markdown",
   "metadata": {},
   "source": []
  }
 ],
 "metadata": {
  "kernelspec": {
   "display_name": "Python 3",
   "language": "python",
   "name": "python3"
  },
  "language_info": {
   "codemirror_mode": {
    "name": "ipython",
    "version": 3
   },
   "file_extension": ".py",
   "mimetype": "text/x-python",
   "name": "python",
   "nbconvert_exporter": "python",
   "pygments_lexer": "ipython3",
   "version": "3.7.6"
  }
 },
 "nbformat": 4,
 "nbformat_minor": 4
}
