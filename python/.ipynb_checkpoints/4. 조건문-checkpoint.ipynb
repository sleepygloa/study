{
 "cells": [
  {
   "cell_type": "markdown",
   "metadata": {},
   "source": [
    "#### condition (조건문)\n",
    "- 특정 조건을 만족하는 경우에만 수행할 작업이 있는 경우 사용\n",
    "- 모든 조건은 boolean 으로 표현 됨(예외 사항은 아래 배울예정)\n",
    "- if, elif, else 키워드가 사용\n",
    "- 조건문의 경우, if, elif, else 블록에 종속된 코드는 들여쓰기로 표현가능\n",
    "- 들여쓰기가 된 코드를 블록 또는 코드블록이라함\n",
    "- python 에서 모든 블록의 시작점의 마지막에는 : 필요"
   ]
  },
  {
   "cell_type": "code",
   "execution_count": 1,
   "metadata": {},
   "outputs": [
    {
     "name": "stdout",
     "output_type": "stream",
     "text": [
      "6 is greater than 5\n",
      "Yeah, it is true\n",
      "This code is belons to if statements\n"
     ]
    }
   ],
   "source": [
    "if 6 >= 5:\n",
    "    print ('6 is greater than 5')\n",
    "    print ('Yeah, it is true')\n",
    "print ('This code is belons to if statements')"
   ]
  },
  {
   "cell_type": "markdown",
   "metadata": {},
   "source": [
    "- Logical AND, OR, NOT\n",
    " - 조건문에 사용되는 조건의 경우, boolean 이기 때문에 논리식인 AND, OR, NOT 사용가능\n",
    " - 우선순위 NOT > AND > OR"
   ]
  },
  {
   "cell_type": "markdown",
   "metadata": {},
   "source": [
    "#### if의 조건이 bool이 아닌 경우\n",
    " - 일반적으로는 조건문에는 bool이 주로 위치 함\n",
    " - 하지만, 정수, 실수, 문자열 리스트 등 기본 타입도 조건에 사용 가능\n",
    " - False로 간주되는 값 (각 타입의 기본값)\n",
    "  - None\n",
    "  - 0\n",
    "  - 0.0\n",
    "  - ''\n",
    "  - []\n",
    "  - ()\n",
    "  - {}\n",
    "  - set()\n",
    " - 이외에는 모두 true 로 간주"
   ]
  },
  {
   "cell_type": "markdown",
   "metadata": {},
   "source": [
    "#### if, else\n",
    "- if 가 아닌 경우, 나머지 조건을 표현하고 싶다면 바로 아래 else 블럭 사용\n",
    "- 이 경우, if 조건이 true인경우, true 블럭수행, 아니면 false 블럭 수행\n",
    "\n",
    "#### if, elif, else\n",
    "- 조건이 여러개인 경우, 다음 조건을 elif 블록에 명시 가능\n",
    "- 이 경우, 각 조건을 확인 후, true인 조건의 코드 블락을 실행한 후 , 전체 if, elif, else 구문 종료\n",
    "\n",
    "#### 중첩 조건문 (nested condition)\n",
    "- 조건문의 경우 중첩하여 작성 가능\n",
    "- 중첩의 의미는 depth(깊이)로 생각 할 수 있으며, depth의 제한은 없음"
   ]
  }
 ],
 "metadata": {
  "kernelspec": {
   "display_name": "Python 3",
   "language": "python",
   "name": "python3"
  },
  "language_info": {
   "codemirror_mode": {
    "name": "ipython",
    "version": 3
   },
   "file_extension": ".py",
   "mimetype": "text/x-python",
   "name": "python",
   "nbconvert_exporter": "python",
   "pygments_lexer": "ipython3",
   "version": "3.7.6"
  }
 },
 "nbformat": 4,
 "nbformat_minor": 4
}
