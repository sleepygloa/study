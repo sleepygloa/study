{
 "cells": [
  {
   "cell_type": "markdown",
   "metadata": {},
   "source": [
    "#### class 란?\n",
    "- 실세계의 것을 모델링하여 속성과 동작을 갖는 데이터타입\n",
    "- python의 string, int, list, dict 모두가 다 클래스로 존재\n",
    "- 다루고자하는 데이터(변수)와 연산(함수)를 하나로 캡슐화 하여 클래스로 표현\n",
    "- 모델링에서 중요시 하는 속성에 따라 클래스의 속성과 행동이 각각 달라짐"
   ]
  },
  {
   "cell_type": "markdown",
   "metadata": {},
   "source": [
    "#### object 란?\n",
    "- 클래스로 생성되어 구체화된 객체(인스턴스)\n",
    "- python의 모든 것은 객체\n",
    "- 실제로 class 가 인스턴스화 되어 메모리에 상주하는 상태를 의미\n",
    "- class 가 빵들이라면, object 는 실제로 빵들로 찍어낸 빵이라고 비유"
   ]
  },
  {
   "cell_type": "code",
   "execution_count": 2,
   "metadata": {},
   "outputs": [],
   "source": [
    "class Person:\n",
    "    pass"
   ]
  },
  {
   "cell_type": "code",
   "execution_count": 14,
   "metadata": {},
   "outputs": [
    {
     "name": "stdout",
     "output_type": "stream",
     "text": [
      "<__main__.Person object at 0x000001225E74C088> is generated\n",
      "<__main__.Person object at 0x000001225E3CBAC8> is generated\n",
      "<class '__main__.Person'> <class '__main__.Person'>\n",
      "<class 'list'> <class 'list'>\n"
     ]
    }
   ],
   "source": [
    "bob = Person()\n",
    "cathy = Person()\n",
    "\n",
    "a = list()\n",
    "b = list()\n",
    "\n",
    "print(type(bob), type(cathy))\n",
    "print(type(a), type(b))"
   ]
  },
  {
   "cell_type": "markdown",
   "metadata": {},
   "source": [
    "#### __init__ (self)\n",
    "- 생성자, 클래스 인스턴스가 생성될 때 호출됨\n",
    "- self인자는 항상 첫번째에 오며, 자기 자신을 가리킴\n",
    "- 이름이 꼭 self일 필요는 없지만, 관례적으로 self를 사용\n",
    "- 생선자에서는 해당 클래스가 다루는 데이터를 정의"
   ]
  },
  {
   "cell_type": "markdown",
   "metadata": {},
   "source": [
    "class Person:\n",
    "    def __init__(self):\n",
    "        print(self, 'is generated')\n",
    "        self.name = 'Kate'\n",
    "        self.age = 10\n",
    "        \n",
    "p1 = Person()\n",
    "p2 = Person()\n",
    "\n",
    "p1.name, p1.age"
   ]
  },
  {
   "cell_type": "markdown",
   "metadata": {},
   "source": [
    "#### self\n",
    "- 파이썬의 method는 항상 첫번째 인자로 self 를 전달\n",
    "- self는 현재 해당 메소드가 호출되는 객체 자신을 가리킴\n",
    "- C++/C#, Java의 this에 해당\n",
    "- 역시, 이름이 self일 필요는 없으나, 위치는 항상 맨 처음의 parameter이며,관례적으로 self 로 사용"
   ]
  },
  {
   "cell_type": "markdown",
   "metadata": {},
   "source": [
    "#### method 정의\n",
    "- 멤버함수라고도하며, 해당 클래스의 object에서만 호출가능\n",
    "- method는 객체 레벨에서 호출되며, 해당 객체의 속성에 대한 연산을 행함\n",
    "- {obj}.{method}() 형태로 호출됨"
   ]
  },
  {
   "cell_type": "code",
   "execution_count": 20,
   "metadata": {},
   "outputs": [
    {
     "name": "stdout",
     "output_type": "stream",
     "text": [
      "현재값은: 0\n",
      "현재값은: 2\n",
      "현재값은: 0\n"
     ]
    }
   ],
   "source": [
    "#1. 숫자를 하나 증가\n",
    "#2. 숫자를 0으로 초기화\n",
    "class Counter:\n",
    "    def __init__(self):\n",
    "        self.num = 0\n",
    "        \n",
    "    def increment(self):\n",
    "        self.num += 1\n",
    "        \n",
    "    def reset(self):\n",
    "        self.num = 0\n",
    "        \n",
    "    def print_current_value(self):\n",
    "        print('현재값은:', self.num)\n",
    "        \n",
    "c1 = Counter()\n",
    "c1.print_current_value()\n",
    "c1.increment()\n",
    "c1.increment()\n",
    "c1.print_current_value()\n",
    "\n",
    "c2 = Counter()\n",
    "c2.print_current_value()"
   ]
  },
  {
   "cell_type": "markdown",
   "metadata": {},
   "source": [
    "#### method type\n",
    "- instane method - 객체로 호출\n",
    " - method 는 객체 레벨로 호출되기 때문에, 해당 메method 를 호출한 객체에서만 영향을 미침\n",
    "- class method(static method) - class로 호출\n",
    " - 클래스 method 의 경우, 클래스 레벨로 호출되기 때문에 클래스 멤버 변수만 변경 가능"
   ]
  },
  {
   "cell_type": "code",
   "execution_count": 23,
   "metadata": {},
   "outputs": [
    {
     "data": {
      "text/plain": [
       "200"
      ]
     },
     "execution_count": 23,
     "metadata": {},
     "output_type": "execute_result"
    }
   ],
   "source": [
    "class Math:\n",
    "    @staticmethod\n",
    "    def add(a, b):\n",
    "        return a + b\n",
    "    \n",
    "    @staticmethod\n",
    "    def multiply(a, b):\n",
    "        return a * b\n",
    "    \n",
    "Math.add(10, 20)\n",
    "Math.multiply(10, 20)"
   ]
  },
  {
   "cell_type": "markdown",
   "metadata": {},
   "source": [
    "#### Class inheritance (상속)\n",
    "- 기존에 정의해둔 클래스의 기능을 그대로 물려받을 수 있다.\n",
    "- 기존 클래스에 기능 일부를 추가하거나, 변경하여 새로운 클래스를 정의한다\n",
    "- 코드를 재사용할 수 있게 한다\n",
    "- 상속 받고자 하는 대상인 기존 클래스는 (Parent, Super, Base class) 라고 부른다.\n",
    "- 상속 받는 새로운 클래스는 (Child, Sub, Derivced class) 라고 부른다.\n",
    "- 의미적으로는 is-a 관계를 갖는다."
   ]
  },
  {
   "cell_type": "code",
   "execution_count": 30,
   "metadata": {},
   "outputs": [
    {
     "name": "stdout",
     "output_type": "stream",
     "text": [
      "Bob은 BBQ를 먹습니다.\n",
      "Bob은 30분동안 잡니다\n",
      "Bob은 60분동안 일합니다.\n",
      "kim은 BBQ를 먹습니다.\n",
      "kim은 30분동안 잡니다\n",
      "kim은 60분동안 일합니다.\n"
     ]
    }
   ],
   "source": [
    "class Person:\n",
    "    def __init__(self, name, age):\n",
    "        self.name = name\n",
    "        self.age = age\n",
    "        \n",
    "    def eat(self, food):\n",
    "        print('{}은 {}를 먹습니다.'.format(self.name, food))\n",
    "        \n",
    "    def sleep(self, minute):\n",
    "        print('{}은 {}분동안 잡니다'.format(self.name, minute))\n",
    "    \n",
    "    def work(self, minute):\n",
    "        print('{}은 {}분동안 일합니다.'.format(self.name, minute))\n",
    "    \n",
    "class Student(Person):\n",
    "    def __init__(self, name, age):\n",
    "        self.name = name\n",
    "        self.age = age\n",
    "\n",
    "class Employee(Person):\n",
    "    def __init__(self, name, age):\n",
    "        self.name = name\n",
    "        self.age = age\n",
    "    \n",
    "bob = Person('Bob', 25)\n",
    "bob.eat('BBQ')\n",
    "bob.sleep(30)\n",
    "bob.work(60)\n",
    "\n",
    "kim = Student('kim', 25)\n",
    "kim.eat('BBQ')\n",
    "kim.sleep(30)\n",
    "kim.work(60)"
   ]
  },
  {
   "cell_type": "markdown",
   "metadata": {},
   "source": [
    "#### method override\n",
    "- 부모의 클래스의 method 를 재정의(override)\n",
    "- 하위 클래스의 인스턴스로 호출시, 재정의된 메소드가 호출됨"
   ]
  },
  {
   "cell_type": "code",
   "execution_count": 32,
   "metadata": {},
   "outputs": [
    {
     "name": "stdout",
     "output_type": "stream",
     "text": [
      "Bob은 BBQ를 먹습니다.\n",
      "Bob은 30분동안 잡니다\n",
      "Bob은 60분동안 일합니다.\n",
      "kim은 BBQ를 먹습니다.\n",
      "kim은 30분동안 잡니다\n",
      "kim은 60분동안 공부합니다.\n"
     ]
    }
   ],
   "source": [
    "class Person:\n",
    "    def __init__(self, name, age):\n",
    "        self.name = name\n",
    "        self.age = age\n",
    "        \n",
    "    def eat(self, food):\n",
    "        print('{}은 {}를 먹습니다.'.format(self.name, food))\n",
    "        \n",
    "    def sleep(self, minute):\n",
    "        print('{}은 {}분동안 잡니다'.format(self.name, minute))\n",
    "    \n",
    "    def work(self, minute):\n",
    "        print('{}은 {}분동안 일합니다.'.format(self.name, minute))\n",
    "    \n",
    "class Student(Person):\n",
    "    def __init__(self, name, age):\n",
    "        self.name = name\n",
    "        self.age = age\n",
    "        \n",
    "    def work(self, minute):\n",
    "        print('{}은 {}분동안 공부합니다.'.format(self.name, minute))\n",
    "\n",
    "class Employee(Person):\n",
    "    def __init__(self, name, age):\n",
    "        self.name = name\n",
    "        self.age = age\n",
    "    \n",
    "bob = Person('Bob', 25)\n",
    "bob.eat('BBQ')\n",
    "bob.sleep(30)\n",
    "bob.work(60)\n",
    "\n",
    "kim = Student('kim', 25)\n",
    "kim.eat('BBQ')\n",
    "kim.sleep(30)\n",
    "kim.work(60)"
   ]
  },
  {
   "cell_type": "markdown",
   "metadata": {},
   "source": [
    "#### super\n",
    "- 하위클래스(자식 클래스)에서 부모 클래스의 method 를 호출할 때 사용"
   ]
  },
  {
   "cell_type": "code",
   "execution_count": 33,
   "metadata": {},
   "outputs": [
    {
     "name": "stdout",
     "output_type": "stream",
     "text": [
      "Bob은 BBQ를 먹습니다.\n",
      "Bob은 30분동안 잡니다\n",
      "Bob은 60분동안 준비를 합니다.\n",
      "kim은 BBQ를 먹습니다.\n",
      "kim은 30분동안 잡니다\n",
      "kim은 60분동안 준비를 합니다.\n",
      "kim은 60분동안 공부합니다.\n"
     ]
    }
   ],
   "source": [
    "class Person:\n",
    "    def __init__(self, name, age):\n",
    "        self.name = name\n",
    "        self.age = age\n",
    "        \n",
    "    def eat(self, food):\n",
    "        print('{}은 {}를 먹습니다.'.format(self.name, food))\n",
    "        \n",
    "    def sleep(self, minute):\n",
    "        print('{}은 {}분동안 잡니다'.format(self.name, minute))\n",
    "    \n",
    "    def work(self, minute):\n",
    "        print('{}은 {}분동안 준비를 합니다.'.format(self.name, minute))\n",
    "    \n",
    "class Student(Person):\n",
    "    def __init__(self, name, age):\n",
    "        self.name = name\n",
    "        self.age = age\n",
    "        \n",
    "    def work(self, minute):\n",
    "        super().work(minute)\n",
    "        print('{}은 {}분동안 공부합니다.'.format(self.name, minute))\n",
    "\n",
    "class Employee(Person):\n",
    "    def __init__(self, name, age):\n",
    "        self.name = name\n",
    "        self.age = age\n",
    "        \n",
    "    def work(self, minute):\n",
    "        super().work(minute)\n",
    "        print('{}은 {}분동안 일합니다.'.format(self.name, minute))\n",
    "        \n",
    "    \n",
    "bob = Person('Bob', 25)\n",
    "bob.eat('BBQ')\n",
    "bob.sleep(30)\n",
    "bob.work(60)\n",
    "\n",
    "kim = Student('kim', 25)\n",
    "kim.eat('BBQ')\n",
    "kim.sleep(30)\n",
    "kim.work(60)"
   ]
  }
 ],
 "metadata": {
  "kernelspec": {
   "display_name": "Python 3",
   "language": "python",
   "name": "python3"
  },
  "language_info": {
   "codemirror_mode": {
    "name": "ipython",
    "version": 3
   },
   "file_extension": ".py",
   "mimetype": "text/x-python",
   "name": "python",
   "nbconvert_exporter": "python",
   "pygments_lexer": "ipython3",
   "version": "3.7.6"
  }
 },
 "nbformat": 4,
 "nbformat_minor": 4
}
